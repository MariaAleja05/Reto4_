{
  "nbformat": 4,
  "nbformat_minor": 0,
  "metadata": {
    "colab": {
      "provenance": []
    },
    "kernelspec": {
      "name": "python3",
      "display_name": "Python 3"
    },
    "language_info": {
      "name": "python"
    }
  },
  "cells": [
    {
      "cell_type": "markdown",
      "source": [
        "# **Sexto Punto**"
      ],
      "metadata": {
        "id": "23kc69_FNldd"
      }
    },
    {
      "cell_type": "markdown",
      "source": [
        "**Enunciado:** Dadas tres longitudes positivas, determinar si con esas longitudes se puede construir un triángulo."
      ],
      "metadata": {
        "id": "TogRNy_BNmMM"
      }
    },
    {
      "cell_type": "code",
      "source": [
        "print(\"-------------------------------------------------------\")\n",
        "print(\"Determinar si con tres longitudes dadas se puede contruir un triángulo\")\n",
        "print(\"-------------------------------------------------------\")\n",
        "#Entradas\n",
        "L1: float = 0\n",
        "L2: float = 0\n",
        "L3: float = 0\n",
        "print(\"Ingrese 3 longitudes\")\n",
        "L1=input(\"L1: \")\n",
        "L2=input(\"L2: \")\n",
        "L3=input(\"L3: \")\n",
        "#Proceso\n",
        "if (L1+L2)>L3:\n",
        "  print(\"SI se puede formar un triángulo con las medidas ingresadas\")\n",
        "else:\n",
        "  print(\"NO se puede formar un triángulo con las medidas ingresadas\")"
      ],
      "metadata": {
        "colab": {
          "base_uri": "https://localhost:8080/"
        },
        "id": "UGVjohCkNqyD",
        "outputId": "2155451b-5913-4dd5-eab1-f4b92230cf55"
      },
      "execution_count": 2,
      "outputs": [
        {
          "output_type": "stream",
          "name": "stdout",
          "text": [
            "-------------------------------------------------------\n",
            "Determinar si con tres longitudes dadas se puede contruir un triángulo\n",
            "-------------------------------------------------------\n",
            "Ingrese 3 longitudes\n",
            "L1: 5\n",
            "L2: 6\n",
            "L3: 4\n",
            "SI se puede formar un triángulo con las medidas ingresadas\n"
          ]
        }
      ]
    }
  ]
}