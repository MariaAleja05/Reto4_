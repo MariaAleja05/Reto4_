{
  "nbformat": 4,
  "nbformat_minor": 0,
  "metadata": {
    "colab": {
      "provenance": []
    },
    "kernelspec": {
      "name": "python3",
      "display_name": "Python 3"
    },
    "language_info": {
      "name": "python"
    }
  },
  "cells": [
    {
      "cell_type": "markdown",
      "source": [
        "# **Segundo Punto**"
      ],
      "metadata": {
        "id": "23kc69_FNldd"
      }
    },
    {
      "cell_type": "markdown",
      "source": [
        "**Enunciado:** Dada una cadena de longitud 1, determine si el código ASCII de primera letra de la cadena es par o no."
      ],
      "metadata": {
        "id": "TogRNy_BNmMM"
      }
    },
    {
      "cell_type": "code",
      "source": [
        "print(\"-------------------------------------------------------\")\n",
        "print(\"Determinar si la primera letra de una cadena de longitud 1 corresponde a un número par o impar del código ASCII\")\n",
        "print(\"-------------------------------------------------------\")\n",
        "#Entradas\n",
        "#Entradas\n",
        "letras: str\n",
        "primera_letra: str\n",
        "letra_mayu: str\n",
        "p: str\n",
        "print(\"Ingrese una palabra: \")\n",
        "p=str( input(\"p: \"))\n",
        "#Proceso\n",
        "letras = p.split(\" \")\n",
        "primera_letra=\"\"\n",
        "for word in letras:\n",
        "  primera_letra += word[0]\n",
        "  letra_mayu=primera_letra.upper()\n",
        "  print(letra_mayu)\n",
        "\n",
        "if letra_mayu==\"B\" or letra_mayu==\"D\" or letra_mayu==\"F\" or letra_mayu==\"H\" or letra_mayu==\"J\" or letra_mayu==\"L\" or letra_mayu==\"N\" or letra_mayu==\"P\" or letra_mayu==\"R\" or letra_mayu==\"T\" or letra_mayu==\"V\" or letra_mayu==\"X\" or letra_mayu==\"Z\":\n",
        "  print(\"El número correspondiente en el código ASCII es par\")\n",
        "else:\n",
        "   print(\"El número correspondiente en el código ASCII es impar\")"
      ],
      "metadata": {
        "colab": {
          "base_uri": "https://localhost:8080/"
        },
        "id": "UGVjohCkNqyD",
        "outputId": "1749aa47-ad56-4c5a-9624-c166a244afe0"
      },
      "execution_count": 2,
      "outputs": [
        {
          "output_type": "stream",
          "name": "stdout",
          "text": [
            "-------------------------------------------------------\n",
            "Determinar si la primera letra de una cadena de longitud 1 corresponde a un número par o impar del código ASCII\n",
            "-------------------------------------------------------\n",
            "Ingrese una palabra: \n",
            "p: aleja\n",
            "A\n",
            "El número correspondiente en el código ASCII es impar\n"
          ]
        }
      ]
    }
  ]
}