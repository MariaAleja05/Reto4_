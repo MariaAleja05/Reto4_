{
  "nbformat": 4,
  "nbformat_minor": 0,
  "metadata": {
    "colab": {
      "provenance": []
    },
    "kernelspec": {
      "name": "python3",
      "display_name": "Python 3"
    },
    "language_info": {
      "name": "python"
    }
  },
  "cells": [
    {
      "cell_type": "markdown",
      "source": [
        "# **Primer Punto**"
      ],
      "metadata": {
        "id": "23kc69_FNldd"
      }
    },
    {
      "cell_type": "markdown",
      "source": [
        "**Enunciado:** Dado un número entero, determinar si ese número corresponde al código ASCII de una vocal minúscula."
      ],
      "metadata": {
        "id": "TogRNy_BNmMM"
      }
    },
    {
      "cell_type": "code",
      "source": [
        "print(\"-------------------------------------------------------\")\n",
        "print(\"Determinar si el número n corresponde al código ASCII de una vocal minúscula\")\n",
        "print(\"-------------------------------------------------------\")\n",
        "#Entradas\n",
        "n: int = 0\n",
        "print(\"Ingrese un número: \")\n",
        "n=int( input(\"n: \"))\n",
        "#Proceso\n",
        "if n==97 :\n",
        "  print(\"El número ingresado SI corresponde a una vocal minúscula\")\n",
        "  print(\"Corresponde a la letra a\")\n",
        "elif n==101 :\n",
        "  print(\"El número ingresado SI corresponde a una vocal minúscula\")\n",
        "  print(\"Corresponde a la letra e\")\n",
        "elif n==105 :\n",
        "  print(\"El número ingresado SI corresponde a una vocal minúscula\")\n",
        "  print(\"Corresponde a la letra i\")\n",
        "elif n==111 :\n",
        "  print(\"El número ingresado SI corresponde a una vocal minúscula\")\n",
        "  print(\"Corresponde a la letra o\")\n",
        "elif n==117 :\n",
        "  print(\"El número ingresado SI corresponde a una vocal minúscula\")\n",
        "  print(\"Corresponde a la letra u\")\n",
        "else:\n",
        "  print(\"El número ingresado NO corresponde a una vocal minúscula\")"
      ],
      "metadata": {
        "colab": {
          "base_uri": "https://localhost:8080/"
        },
        "id": "UGVjohCkNqyD",
        "outputId": "5e95a57b-635b-4f6c-a63c-96b998013135"
      },
      "execution_count": 3,
      "outputs": [
        {
          "output_type": "stream",
          "name": "stdout",
          "text": [
            "-------------------------------------------------------\n",
            "Determinar si el número n corresponde al código ASCII de una vocal minúscula\n",
            "-------------------------------------------------------\n",
            "Ingrese un número: \n",
            "n: 101\n",
            "El número ingresado SI corresponde a una vocal minúscula\n",
            "Corresponde a la letra e\n"
          ]
        }
      ]
    }
  ]
}