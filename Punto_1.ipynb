{
  "nbformat": 4,
  "nbformat_minor": 0,
  "metadata": {
    "colab": {
      "provenance": []
    },
    "kernelspec": {
      "name": "python3",
      "display_name": "Python 3"
    },
    "language_info": {
      "name": "python"
    }
  },
  "cells": [
    {
      "cell_type": "markdown",
      "source": [
        "# **Primer Punto**"
      ],
      "metadata": {
        "id": "23kc69_FNldd"
      }
    },
    {
      "cell_type": "markdown",
      "source": [
        "**Enunciado:** Dado un número entero, determinar si ese número corresponde al código ASCII de una vocal minúscula."
      ],
      "metadata": {
        "id": "TogRNy_BNmMM"
      }
    },
    {
      "cell_type": "code",
      "source": [
        "print(\"-------------------------------------------------------\")\n",
        "print(\"Determinar si el número n corresponde al código ASCII de una vocal minúscula\")\n",
        "print(\"-------------------------------------------------------\")\n",
        "#Entradas\n",
        "n: int = 0\n",
        "print(\"Ingrese un número: \")\n",
        "n=int( input(\"n: \"))\n",
        "#Proceso\n",
        "if (97<=n<=122):\n",
        "  print(\"-------------------------------------------------------\")\n",
        "  print(\"El número ingresado corresponde a una vocal minúscula\")\n",
        "  if n==97 :\n",
        "    print(\"Corresponde a la letra a\")\n",
        "  elif n==101 :\n",
        "    print(\"Corresponde a la letra e\")\n",
        "  elif n==105 :\n",
        "    print(\"Corresponde a la letra i\")\n",
        "  elif n==111 :\n",
        "    print(\"Corresponde a la letra o\")\n",
        "  elif n==117 :\n",
        "    print(\"Corresponde a la letra u\")\n",
        "else:\n",
        "  print(\"-------------------------------------------------------\")\n",
        "  print(\"El número ingresado NO corresponde a una vocal minúscula\")"
      ],
      "metadata": {
        "colab": {
          "base_uri": "https://localhost:8080/"
        },
        "id": "UGVjohCkNqyD",
        "outputId": "3c052f24-de85-4edf-f018-189fde9f8871"
      },
      "execution_count": 1,
      "outputs": [
        {
          "output_type": "stream",
          "name": "stdout",
          "text": [
            "-------------------------------------------------------\n",
            "Determinar si el número n corresponde al código ASCII de una vocal minúscula\n",
            "-------------------------------------------------------\n",
            "Ingrese un número: \n",
            "n: 123\n",
            "-------------------------------------------------------\n",
            "El número ingresado NO corresponde a una vocal minúscula\n"
          ]
        }
      ]
    }
  ]
}