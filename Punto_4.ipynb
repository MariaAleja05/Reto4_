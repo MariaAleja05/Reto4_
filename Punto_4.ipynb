{
  "nbformat": 4,
  "nbformat_minor": 0,
  "metadata": {
    "colab": {
      "provenance": []
    },
    "kernelspec": {
      "name": "python3",
      "display_name": "Python 3"
    },
    "language_info": {
      "name": "python"
    }
  },
  "cells": [
    {
      "cell_type": "markdown",
      "source": [
        "# **Cuarto Punto**"
      ],
      "metadata": {
        "id": "23kc69_FNldd"
      }
    },
    {
      "cell_type": "markdown",
      "source": [
        "**Enunciado:** Dado un número real x, construya un programa que permita determinar si el número es positivo, negativo o cero. Para cada caso de debe imprimir el texto que se especifica a continuación:\n",
        "\n",
        "**Positivo**: \"El número x es positivo\"; **Negativo**: \"El número x es negativo\"; **Cero (0)**: \"El número x es el neutro para la suma\""
      ],
      "metadata": {
        "id": "TogRNy_BNmMM"
      }
    },
    {
      "cell_type": "code",
      "source": [
        "print(\"-------------------------------------------------------\")\n",
        "print(\"Determinar si el número es positivo, negativo o cero\")\n",
        "print(\"-------------------------------------------------------\")\n",
        "#Entradas\n",
        "x: int\n",
        "print(\"Ingrese un número: \")\n",
        "x=int( input(\"x: \"))\n",
        "#Proceso\n",
        "if x>0:\n",
        "  print(\"El número x es positivo\")\n",
        "elif x<0:\n",
        "  print(\"El número x es negativo\")\n",
        "else:\n",
        "  print(\"El número x es el neutro para la suma\")"
      ],
      "metadata": {
        "colab": {
          "base_uri": "https://localhost:8080/"
        },
        "id": "UGVjohCkNqyD",
        "outputId": "75b67e62-f214-43d7-c1c2-a238c80ad031"
      },
      "execution_count": 4,
      "outputs": [
        {
          "output_type": "stream",
          "name": "stdout",
          "text": [
            "-------------------------------------------------------\n",
            "Determinar si el número es positivo, negativo o cero\n",
            "-------------------------------------------------------\n",
            "Ingrese un número: \n",
            "x: -829\n",
            "El número x es negativo\n"
          ]
        }
      ]
    }
  ]
}