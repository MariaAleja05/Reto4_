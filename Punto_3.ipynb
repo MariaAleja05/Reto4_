{
  "nbformat": 4,
  "nbformat_minor": 0,
  "metadata": {
    "colab": {
      "provenance": []
    },
    "kernelspec": {
      "name": "python3",
      "display_name": "Python 3"
    },
    "language_info": {
      "name": "python"
    }
  },
  "cells": [
    {
      "cell_type": "markdown",
      "source": [
        "# **Tercer Punto**"
      ],
      "metadata": {
        "id": "23kc69_FNldd"
      }
    },
    {
      "cell_type": "markdown",
      "source": [
        "**Enunciado:** Dado un carácter, construya un programa en Python para determinar si el carácter es un dígito o no."
      ],
      "metadata": {
        "id": "TogRNy_BNmMM"
      }
    },
    {
      "cell_type": "code",
      "source": [
        "print(\"-------------------------------------------------------\")\n",
        "print(\"Determinar si un carácter es dígito o no\")\n",
        "print(\"-------------------------------------------------------\")\n",
        "#Entradas\n",
        "c: float = 0.0\n",
        "print(\"Ingrese un caracter: \")\n",
        "c=input(\"c:\")\n",
        "type(c)\n",
        "#Proceso\n",
        "if (c>=\"0\" and c<=\"9\"):\n",
        "    print(\"El carácter ingresado SI es un dígito\")\n",
        "else:\n",
        "    print(\"El carácter ingresado NO es un dígito\")"
      ],
      "metadata": {
        "colab": {
          "base_uri": "https://localhost:8080/"
        },
        "id": "UGVjohCkNqyD",
        "outputId": "88fac116-3f6e-4311-fc39-468844a2055c"
      },
      "execution_count": 3,
      "outputs": [
        {
          "output_type": "stream",
          "name": "stdout",
          "text": [
            "-------------------------------------------------------\n",
            "Determinar si un carácter es dígito o no\n",
            "-------------------------------------------------------\n",
            "Ingrese un caracter: \n",
            "c:6\n",
            "El carácter ingresado SI es un dígito\n"
          ]
        }
      ]
    }
  ]
}