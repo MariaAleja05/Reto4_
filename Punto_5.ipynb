{
  "nbformat": 4,
  "nbformat_minor": 0,
  "metadata": {
    "colab": {
      "provenance": []
    },
    "kernelspec": {
      "name": "python3",
      "display_name": "Python 3"
    },
    "language_info": {
      "name": "python"
    }
  },
  "cells": [
    {
      "cell_type": "markdown",
      "source": [
        "# **Quinto Punto**"
      ],
      "metadata": {
        "id": "23kc69_FNldd"
      }
    },
    {
      "cell_type": "markdown",
      "source": [
        "**Enunciado:** Dado el centro y el radio de un círculo, determinar si un punto de R2 pertenece o no al interior del círculo."
      ],
      "metadata": {
        "id": "TogRNy_BNmMM"
      }
    },
    {
      "cell_type": "code",
      "source": [
        "print(\"-------------------------------------------------------\")\n",
        "print(\"Determinar si un punto R2 pertenece al interior del círculo\")\n",
        "print(\"-------------------------------------------------------\")\n",
        "#Entradas\n",
        "centro=[]\n",
        "radio=[]\n",
        "R2=[]\n",
        "print(\"Ingrese el centro del círculo coordenada en eje X: \")\n",
        "cx=int( input(\"cx: \"))\n",
        "print(\"Ingrese el centro del círculo coordenada en eje Y: \")\n",
        "cy=int( input(\"cy: \"))\n",
        "centro.append(cx)\n",
        "centro.append(cy)\n",
        "print(\"Ingrese el radio del círculo: \")\n",
        "r=int( input(\"r: \"))\n",
        "radio.append(r)\n",
        "print(\"Ingrese coordenada en eje X del punto R2: \")\n",
        "R2x=int( input(\"R2x: \"))\n",
        "print(\"Ingrese coordenada en eje Y del punto R2: \")\n",
        "R2y=int( input(\"R2y: \"))\n",
        "R2.append(R2x)\n",
        "R2.append(R2y)\n",
        "print(f\"Coordenadas del centro: {centro}\")\n",
        "print(f\"Coordenadas del radio: {radio}\")\n",
        "print(f\"Coordenadas punto R2: {R2}\")\n",
        "#Proceso\n",
        "ecuacion1=((R2x-cx)**2) + ((R2y-cy)**2)\n",
        "ecuacion2=(r**2)\n",
        "if ecuacion1==ecuacion2:\n",
        "  print(\"R2 SI pertenece al interior del círculo\")\n",
        "else:\n",
        "  print(\"R2 NO pertenece al interior del círculo\")"
      ],
      "metadata": {
        "colab": {
          "base_uri": "https://localhost:8080/"
        },
        "id": "UGVjohCkNqyD",
        "outputId": "3e8cd8fa-7e70-416c-90f8-3474e7174cdf"
      },
      "execution_count": 1,
      "outputs": [
        {
          "output_type": "stream",
          "name": "stdout",
          "text": [
            "-------------------------------------------------------\n",
            "Determinar si un punto R2 pertenece al interior del círculo\n",
            "-------------------------------------------------------\n",
            "Ingrese el centro del círculo coordenada en eje X: \n",
            "cx: 6\n",
            "Ingrese el centro del círculo coordenada en eje Y: \n",
            "cy: -6\n",
            "Ingrese el radio del círculo: \n",
            "r: 14\n",
            "Ingrese coordenada en eje X del punto R2: \n",
            "R2x: 6\n",
            "Ingrese coordenada en eje Y del punto R2: \n",
            "R2y: -6\n",
            "Coordenadas del centro: [6, -6]\n",
            "Coordenadas del radio: [14]\n",
            "Coordenadas punto R2: [6, -6]\n",
            "R2 NO pertenece al interior del círculo\n"
          ]
        }
      ]
    }
  ]
}